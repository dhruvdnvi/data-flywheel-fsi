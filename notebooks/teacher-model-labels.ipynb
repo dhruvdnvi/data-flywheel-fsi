{
 "cells": [
  {
   "cell_type": "markdown",
   "id": "7ad2039a",
   "metadata": {},
   "source": [
    "# Label Generation Through Teacher Model\n",
    "\n",
    "This notebook demonstrates how to use a large language model (teacher model) to generate high-quality labels for financial news headlines. The teacher model (Llama 3.3 70B) classifies headlines into 13 event categories based on financial news classification criteria.\n",
    "\n",
    "**Pre-generated Labels Available:** We have already generated and saved labeled data to save you time. \n",
    "\n",
    "**Quick Navigation:**\n",
    "- **To only validate model performance:** Run Section 1 (Load Dataset), Section 2.1 (Deploy Model), then jump to Section 3\n",
    "- **To only visualize existing labels:** Run Section 1 (Load Dataset), then jump to Section 4\n",
    "- **To generate new labels:** Run all of Section 2 (~1 hour total)\n",
    "\n",
    "**If you want to generate labels yourself:**\n",
    "- Total Runtime: ~1 hour\n",
    "- Model deployment: 15-20 minutes\n",
    "- Label generation: 35-45 minutes (depends on GPU hardware and dataset size)\n",
    "\n",
    "## Navigation\n",
    "\n",
    "1. [Load Dataset](#1-load-dataset)\n",
    "2. [Teacher Model Label Generation (Optional - ~1 hour)](#2-teacher-model-label-generation-optional---1-hour)\n",
    "   - 2.1 Setup and Deploy Teacher Model (Required for Section 3)\n",
    "   - 2.2 Define Classification Prompt\n",
    "   - 2.3 Generate and Clean Labels\n",
    "   - 2.4 Save Results and Cleanup\n",
    "3. [Validation on Manually Labeled Data](#3-validation-on-manually-labeled-data) (Requires Section 2.1)\n",
    "4. [Visualize Existing Labels](#4-visualize-existing-labels) (No model deployment needed)\n"
   ]
  },
  {
   "cell_type": "markdown",
   "id": "8900734f",
   "metadata": {},
   "source": [
    "## 1. Load Dataset\n",
    "\n",
    "Load the raw financial news dataset. This dataset will be used for label generation or analysis.\n"
   ]
  },
  {
   "cell_type": "code",
   "execution_count": 5,
   "id": "cfc857af",
   "metadata": {},
   "outputs": [
    {
     "name": "stdout",
     "output_type": "stream",
     "text": [
      "Updated PATH to include: /home/shadeform/.local/bin\n",
      "Working directory changed to: /home/shadeform/data-flywheel-fsi\n"
     ]
    }
   ],
   "source": [
    "from pathlib import Path\n",
    "import os\n",
    "notebook_dir = Path.cwd()\n",
    "notebook_dir = notebook_dir.parent\n",
    "project_root = notebook_dir \n",
    "# / \"data-flywheel-fsi\"\n",
    "local_bin = os.path.expanduser(\"~/.local/bin\")\n",
    "os.environ[\"PATH\"] = f\"{local_bin}:{os.environ['PATH']}\"\n",
    "print(f\"Updated PATH to include: {local_bin}\")\n",
    "\n",
    "import sys\n",
    "\n",
    "data_dir = project_root / \"data\"\n",
    "sys.path.insert(0, str(project_root))\n",
    "os.chdir(project_root)\n",
    "print(f\"Working directory changed to: {Path.cwd()}\")"
   ]
  },
  {
   "cell_type": "code",
   "execution_count": 6,
   "id": "15e6a579",
   "metadata": {},
   "outputs": [],
   "source": [
    "import requests\n",
    "import time\n",
    "import datasets\n",
    "import pandas as pd\n",
    "from src.scripts.nim_helpers import create_model_deployment, delete_model_deployment, delete_model_from_store, list_model_deployments"
   ]
  },
  {
   "cell_type": "code",
   "execution_count": 1,
   "id": "3d13ea21",
   "metadata": {},
   "outputs": [
    {
     "name": "stderr",
     "output_type": "stream",
     "text": [
      "/home/shadeform/.venv/lib/python3.12/site-packages/tqdm/auto.py:21: TqdmWarning: IProgress not found. Please update jupyter and ipywidgets. See https://ipywidgets.readthedocs.io/en/stable/user_install.html\n",
      "  from .autonotebook import tqdm as notebook_tqdm\n",
      "Generating train split: 154536 examples [00:00, 430230.71 examples/s]\n"
     ]
    },
    {
     "data": {
      "text/plain": [
       "DatasetDict({\n",
       "    train: Dataset({\n",
       "        features: ['headline', 'label'],\n",
       "        num_rows: 154536\n",
       "    })\n",
       "})"
      ]
     },
     "execution_count": 1,
     "metadata": {},
     "output_type": "execute_result"
    }
   ],
   "source": [
    "import datasets\n",
    "data = datasets.load_dataset(\"/home/shadeform/data-flywheel-fsi/data/news_data_raw\")\n",
    "data"
   ]
  },
  {
   "cell_type": "markdown",
   "id": "0470c12e",
   "metadata": {},
   "source": [
    "## 2. Teacher Model Label Generation (Optional) - ~1 hour\n",
    "\n",
    "**Note on skipping:** If you only want to run validation (Section 3), you must still run **Section 2.1** to deploy the model, but you can skip sections 2.2-2.4.\n",
    "\n",
    "If you want to jump directly to visualizing existing labels (Section 4), you can skip this entire section.\n",
    "\n",
    "**If you run the full section, it will:**\n",
    "1. Deploy Llama 3.3 70B Instruct model (~15-20 mins) - **Required for Section 3**\n",
    "2. Define classification prompt with 13 event categories\n",
    "3. Generate labels for all headlines (~35-45 mins)\n",
    "4. Clean and standardize the labels\n",
    "5. Save results to CSV\n",
    "6. Clean up deployment resources\n",
    "\n",
    "**Estimated total time: ~1 hour**\n"
   ]
  },
  {
   "cell_type": "markdown",
   "id": "6eeb3ed3",
   "metadata": {},
   "source": [
    "### 2.1 Setup and Deploy Teacher Model\n",
    "\n",
    "Set up paths, import libraries, and deploy the Llama 3.3 70B model.\n",
    "\n",
    "**\u26a0\ufe0f This subsection is required if you want to run Section 3 (Validation)** even if you skip label generation.\n"
   ]
  },
  {
   "cell_type": "code",
   "execution_count": 7,
   "id": "b69ddce7",
   "metadata": {},
   "outputs": [
    {
     "name": "stdout",
     "output_type": "stream",
     "text": [
      "Found 4 deployment(s):\n",
      "\n"
     ]
    },
    {
     "data": {
      "text/plain": [
       "{'data': [{'async_enabled': False,\n",
       "   'config': {'model': 'meta/llama-3.2-3b-instruct',\n",
       "    'nim_deployment': {'additional_envs': {'NIM_GUIDED_DECODING_BACKEND': 'outlines'},\n",
       "     'disable_lora_support': False,\n",
       "     'gpu': 1,\n",
       "     'image_name': 'nvcr.io/nim/meta/llama-3.2-3b-instruct',\n",
       "     'image_tag': '1.8.3',\n",
       "     'pvc_size': '25Gi'}},\n",
       "   'created_at': '2025-11-01T00:45:23.70265154Z',\n",
       "   'deployed': True,\n",
       "   'name': 'meta-llama-3.2-3b-instruct',\n",
       "   'namespace': 'dfwbp',\n",
       "   'status_details': {'description': 'deployment \"modeldeployment-dfwbp-meta-llama-3-2-3b-instruct\" successfully rolled out\\n',\n",
       "    'status': 'ready'},\n",
       "   'url': ''}],\n",
       " 'filter': {},\n",
       " 'object': 'list',\n",
       " 'pagination': {'current_page_size': 1,\n",
       "  'page': 1,\n",
       "  'page_size': 10,\n",
       "  'total_pages': 1,\n",
       "  'total_results': 1}}"
      ]
     },
     "execution_count": 7,
     "metadata": {},
     "output_type": "execute_result"
    }
   ],
   "source": [
    "list_model_deployments(\"http://nemo.test\")"
   ]
  },
  {
   "cell_type": "code",
   "execution_count": null,
   "id": "9d9170c0",
   "metadata": {},
   "outputs": [
    {
     "name": "stdout",
     "output_type": "stream",
     "text": [
      "200\n",
      "{'async_enabled': False, 'config': {'model': 'meta/llama-3.3-70b-instruct', 'nim_deployment': {'additional_envs': {'NIM_GUIDED_DECODING_BACKEND': 'outlines'}, 'disable_lora_support': False, 'gpu': 2, 'image_name': 'nvcr.io/nim/meta/llama-3.3-70b-instruct', 'image_tag': '1.8.5', 'pvc_size': '25Gi'}}, 'created_at': '2025-10-24T19:23:40.84738965Z', 'deployed': False, 'name': 'llama-3.3-70b-instruct', 'namespace': 'meta', 'status_details': {'description': 'Model deployment created', 'status': 'pending'}, 'url': ''}\n"
     ]
    }
   ],
   "source": [
    "# create model deployment\n",
    "# nvcr.io/nim/nvidia/llama-3.3-nemotron-super-49b-v1.5:latest\n",
    "payload = {\n",
    "    \"name\": \"llama-3.3-70b-instruct\",\n",
    "    \"namespace\": \"meta\",\n",
    "    \"config\": {\n",
    "        \"model\": \"meta/llama-3.3-70b-instruct\",\n",
    "        \"nim_deployment\": {\n",
    "            \"image_name\": \"nvcr.io/nim/meta/llama-3.3-70b-instruct\",\n",
    "            \"image_tag\": \"1.8.5\",\n",
    "            \"pvc_size\": \"25Gi\",\n",
    "            \"gpu\": 2,\n",
    "            \"additional_envs\": {\n",
    "                \"NIM_GUIDED_DECODING_BACKEND\": \"outlines\",\n",
    "            }\n",
    "        }\n",
    "    }\n",
    "}\n",
    "\n",
    "create_model_deployment(ENTITY_STORE_URL=\"http://nemo.test\",\n",
    "                        name=\"llama-3.3-70b-instruct\", \n",
    "                        namespace=\"meta\", \n",
    "                        payload=payload)"
   ]
  },
  {
   "cell_type": "code",
   "execution_count": 29,
   "id": "2b87b247",
   "metadata": {},
   "outputs": [
    {
     "name": "stdout",
     "output_type": "stream",
     "text": [
      "Models: []\n"
     ]
    }
   ],
   "source": [
    "# List models\n",
    "response = requests.get(\"http://nim.test/v1/models\")\n",
    "if response.status_code == 200:\n",
    "    models = [m['id'] for m in response.json()['data']]\n",
    "    print(f\"Models: {models}\") "
   ]
  },
  {
   "cell_type": "code",
   "execution_count": 31,
   "id": "1bf0c2b1",
   "metadata": {},
   "outputs": [
    {
     "name": "stdout",
     "output_type": "stream",
     "text": [
      "Waiting for NIM to be ready...\n"
     ]
    },
    {
     "name": "stdout",
     "output_type": "stream",
     "text": [
      "Waiting for NIM to be ready...\n",
      "Waiting for NIM to be ready...\n",
      "Waiting for NIM to be ready...\n",
      "Waiting for NIM to be ready...\n",
      "Waiting for NIM to be ready...\n",
      "Waiting for NIM to be ready...\n",
      "Waiting for NIM to be ready...\n",
      "Waiting for NIM to be ready...\n",
      "The capital of France is Paris.\n"
     ]
    }
   ],
   "source": [
    "# test the deployment with a simple prompt\n",
    "url = \"http://nim.test/v1/chat/completions\"\n",
    "\n",
    "payload = {\n",
    "    \"model\": \"meta/llama-3.3-70b-instruct\",\n",
    "    \"messages\": [\n",
    "        {\"role\": \"user\", \"content\": \"What is the capital of France?\"}\n",
    "    ],\n",
    "    \"max_tokens\": 200,\n",
    "    \"temperature\": 0.7\n",
    "}\n",
    "while True:\n",
    "    try:\n",
    "        response = requests.post(url, json=payload)\n",
    "        print(response.json()['choices'][0]['message']['content'])\n",
    "        break\n",
    "    except Exception as e:\n",
    "        print(\"Waiting for NIM to be ready...\")\n",
    "        time.sleep(100)"
   ]
  },
  {
   "cell_type": "markdown",
   "id": "87d100d0",
   "metadata": {},
   "source": [
    "### 2.2 Define Classification Prompt\n",
    "\n",
    "Define the comprehensive prompt with all 13 event categories and examples.\n"
   ]
  },
  {
   "cell_type": "code",
   "execution_count": 9,
   "id": "87ab0a18",
   "metadata": {},
   "outputs": [],
   "source": [
    "PROMPT = \"\"\"\n",
    "You are a helpful AI assistant that analyses financial news headlines and identifies what event type is described.\n",
    "You will classify event types into one of the following categories (in square brackets)\n",
    "\n",
    "- [Analyst Rating]: An entity such as a bank, asset manager, etc. gives a classification/rating/downgrade/upgrade/opinion to an asset.\n",
    "                    If there is no specified analyst and company given, it's not Analyst Rating and should be classified as OTHER.\n",
    "- [Price Targets]: A mention of a price target (PT) is given by an entity such as bank, asset manager, etc.\n",
    "                   This takes priority over any other class, so if a price target is present use this class!\n",
    "- [Earnings]: Reports of quarterly, monthly, etc. concrete values of revenue, ESP, etc. Percentage fluctations.\n",
    "              Expected values are not Earnings and should be Guidance instead!\n",
    "- [Labour Issues]: Mentions of layoffs, union action, strikes, rising cost of labour, bonuses for execs, etc. Important personal change, e.g. CEO, CFO, VPs, etc.\n",
    "- [Mergers and Acquisitions]: Whenever merging or acquisition of entities, not just companies, is mentioned.\n",
    "                              Things like partnerships do not belong to this class! Takes priority over other classes.\n",
    "- [Dividends]: Mentions of dividend performance, dividend per share, decisions not to issue dividends, etc.\n",
    "- [Regulatory]: Mentions corporate position focused on environmental affairs, government regulation, international treaties, geopolitics, debt repayment, licenses, patents, etc.\n",
    "                Any executive decisions taken by the government are Regulatory. Takes priority over other classes.\n",
    "- [Stock price movement]: Includes pricing of public offerings, daily, monthly and yearly movements, highs and lows, options trade and alerts, etc.\n",
    "                          Only relevant when a specific entity/industry or set of entities/industries mentioned.\n",
    "                          Quantities such as sales, are not stock price movements. Stock splits do not count as stock movements.\n",
    "                          Takes priority over Earnings, Stock Price Movement, Credit Ratings\n",
    "- [Credit Ratings]: Adjustments of company's borrowing capacity, changes in debt values, changes in ratings, etc.\n",
    "- [Products-Services]: Mentions of a company's particular product, forward-looking product directions, disruption, government and private contracts, etc.\n",
    "                       Any sort of delay regarding a product roll-out, etc.\n",
    "- [Product Approval]: Mentions FDA approvals, environmental approvals, acceptance for review. Any time an entity approves the rollout of a corporations product.\n",
    "- [Guidance]: Forward looking statements issued by the company's themselves regarding Revenue, EPS, potential sales going up/down, number of contracts, etc.\n",
    "              Similar talk to earnings but about projections rather than realised.\n",
    "              \n",
    "If the headline doesn't match any of the classes, classify it as OTHER.\n",
    "ATTENTION:\n",
    "  - Only assign a category if the headline meets all the criteria listed for that category. Otherwise use OTHER\n",
    "  - Encourage precise matching rather than assigning categories based on partial or superficial similarities\n",
    "  - OTHER is the default category when in doubt\n",
    "  - If there are no specific companies mentioned, use OTHER\n",
    "\n",
    "A few examples:\n",
    "\n",
    "1. Cornerstone OnDemand Higher as Barclays Upgraded to Overweight -> [Analyst Rating]\n",
    "2. HC Wainwright & Co. Maintains Buy on Balchem, Lowers Price Target to $104 -> [Price Targets]\n",
    "3. Sina Reports Q4 Adj. EPS $0.24 vs $0.18 Est., Sales $211.1M vs $207.6M Est.; Sees FY15 Sales $800M-$900M vs $884.6M Est. -> [Earnings]\n",
    "4. Delta To Buy Out Employees, Offer Early Retirement (DAL) -> [Labour Issues]\n",
    "5. Constant Contact Announces Deal to Be Purchased by Endurance Int'l at $32/Share -> [Mergers and Acquisitions]\n",
    "6. Ameriprise Financial Announces 12% Qtr. Dividend Increase to $0.58/Share -> [Dividends]\n",
    "7. Ultratech Achieves ISO 9001 and 14001 Certification for Singapore Operations and Recertification for U.S. Facility  -> [Regulatory]\n",
    "8. Mid-Afternoon Market Update: Dow Up Over 200 Points; Lakeland Industries Shares Spike Higher -> [Stock price movement]\n",
    "9. Moody's Affirms Ratings on Nokia; Outlook Revised from Negative to Developing -> [Credit Ratings]\n",
    "10. NOVAVAX Awarded HHS-BARDA Contract Valued at up to $179 Million  -> [Products-Services]\n",
    "11. Sanofi's Genzyme Announces Lemtrada Resubmission Accepted for Review by FDA  -> [Product Approval]\n",
    "12. Dot Hill Systems Announces Re-alignment of Software Development Initiatives; Sees Q4 EPS of $(0.02)-(0.03) vs $0.03-(0.03) Prior  -> [Guidance]\n",
    "13. Kopin Chairman Fan Buys 116,400 Shares @$2.83/Share -Form 4 -> [OTHER]\n",
    "\n",
    "Given the following headline:\n",
    "\n",
    "### START HEADLINE ###\n",
    "\n",
    "{headline}\n",
    "\n",
    "### END HEADLINE ###\n",
    "\n",
    "What event type best classifies it? Answer only with your predicted class and give it inside double square brackets, like [[class]]\n",
    "\"\"\""
   ]
  },
  {
   "cell_type": "code",
   "execution_count": 10,
   "id": "9fa0bae4",
   "metadata": {},
   "outputs": [],
   "source": [
    "import asyncio\n",
    "import aiohttp\n",
    "\n",
    "async def classify_headline(session, headline):\n",
    "    \"\"\"Get classification for a single headline.\"\"\"\n",
    "    # Use the PROMPT from the notebook, formatted with the headline\n",
    "    prompt = PROMPT.format(headline=headline)\n",
    "    payload = {\n",
    "        \"model\": \"meta/llama-3.3-70b-instruct\",\n",
    "        \"messages\": [\n",
    "            {\"role\": \"user\", \"content\": prompt}\n",
    "        ],\n",
    "        \"max_tokens\": 100,\n",
    "        \"temperature\": 0.4\n",
    "    }\n",
    "    \n",
    "    async with session.post(\"http://nim.test/v1/chat/completions\", json=payload) as response:\n",
    "        result = await response.json()\n",
    "        return result['choices'][0]['message']['content']\n",
    "\n",
    "async def process_dataset(dataset, num_samples=None, concurrent=10):\n",
    "    \"\"\"Process headlines and return DataFrame with headline and predicted_label.\"\"\"\n",
    "    # Access headlines directly from the dataset column\n",
    "    if num_samples is None:\n",
    "        headlines = dataset['train']['headline']\n",
    "    else:\n",
    "        headlines = dataset['train']['headline'][:num_samples]\n",
    "    \n",
    "    semaphore = asyncio.Semaphore(concurrent)\n",
    "    \n",
    "    async def classify_with_limit(session, headline):\n",
    "        async with semaphore:\n",
    "            label = await classify_headline(session, headline)\n",
    "            return {\"headline\": headline, \"predicted_label\": label}\n",
    "    \n",
    "    async with aiohttp.ClientSession() as session:\n",
    "        tasks = [classify_with_limit(session, h) for h in headlines]\n",
    "        results = await asyncio.gather(*tasks)\n",
    "    \n",
    "    return pd.DataFrame(results)\n"
   ]
  },
  {
   "cell_type": "markdown",
   "id": "4e94054c",
   "metadata": {},
   "source": [
    "### 2.3 Generate and Clean Labels\n",
    "\n",
    "Process all headlines through the teacher model and standardize the outputs.\n"
   ]
  },
  {
   "cell_type": "code",
   "execution_count": 11,
   "id": "7ba38937",
   "metadata": {},
   "outputs": [
    {
     "data": {
      "text/html": [
       "<div>\n",
       "<style scoped>\n",
       "    .dataframe tbody tr th:only-of-type {\n",
       "        vertical-align: middle;\n",
       "    }\n",
       "\n",
       "    .dataframe tbody tr th {\n",
       "        vertical-align: top;\n",
       "    }\n",
       "\n",
       "    .dataframe thead th {\n",
       "        text-align: right;\n",
       "    }\n",
       "</style>\n",
       "<table border=\"1\" class=\"dataframe\">\n",
       "  <thead>\n",
       "    <tr style=\"text-align: right;\">\n",
       "      <th></th>\n",
       "      <th>headline</th>\n",
       "      <th>predicted_label</th>\n",
       "    </tr>\n",
       "  </thead>\n",
       "  <tbody>\n",
       "    <tr>\n",
       "      <th>0</th>\n",
       "      <td>24/7 Wall St. CEOs Who Need to be Fired: Nine...</td>\n",
       "      <td>OTHER</td>\n",
       "    </tr>\n",
       "    <tr>\n",
       "      <th>1</th>\n",
       "      <td>3 ETFs Being Driven By Russia, Time Warner An...</td>\n",
       "      <td>OTHER</td>\n",
       "    </tr>\n",
       "    <tr>\n",
       "      <th>2</th>\n",
       "      <td>Humana and Allscripts Form Alliance to Advan...</td>\n",
       "      <td>Products-Services</td>\n",
       "    </tr>\n",
       "    <tr>\n",
       "      <th>3</th>\n",
       "      <td>2011 Investor Day: UBS Updates its Strategy a...</td>\n",
       "      <td>Guidance</td>\n",
       "    </tr>\n",
       "    <tr>\n",
       "      <th>4</th>\n",
       "      <td>Avanir Pharmaceuticals Reports Publication of...</td>\n",
       "      <td>Products-Services</td>\n",
       "    </tr>\n",
       "    <tr>\n",
       "      <th>...</th>\n",
       "      <td>...</td>\n",
       "      <td>...</td>\n",
       "    </tr>\n",
       "    <tr>\n",
       "      <th>153506</th>\n",
       "      <td>\ufeffShares of several software companies are trad...</td>\n",
       "      <td>Stock price movement</td>\n",
       "    </tr>\n",
       "    <tr>\n",
       "      <th>153507</th>\n",
       "      <td>\ufeffShares of several shipping and logistics comp...</td>\n",
       "      <td>Regulatory</td>\n",
       "    </tr>\n",
       "    <tr>\n",
       "      <th>153508</th>\n",
       "      <td>\ufeffShares of several vaccine companies are tradi...</td>\n",
       "      <td>Stock price movement</td>\n",
       "    </tr>\n",
       "    <tr>\n",
       "      <th>153509</th>\n",
       "      <td>\ufeffVBI Vaccines shares are trading higher on con...</td>\n",
       "      <td>Stock price movement</td>\n",
       "    </tr>\n",
       "    <tr>\n",
       "      <th>153510</th>\n",
       "      <td>\ufeffTenneco shares are trading lower on a continu...</td>\n",
       "      <td>OTHER</td>\n",
       "    </tr>\n",
       "  </tbody>\n",
       "</table>\n",
       "<p>153511 rows \u00d7 2 columns</p>\n",
       "</div>"
      ],
      "text/plain": [
       "                                                 headline  \\\n",
       "0        24/7 Wall St. CEOs Who Need to be Fired: Nine...   \n",
       "1        3 ETFs Being Driven By Russia, Time Warner An...   \n",
       "2         Humana and Allscripts Form Alliance to Advan...   \n",
       "3        2011 Investor Day: UBS Updates its Strategy a...   \n",
       "4        Avanir Pharmaceuticals Reports Publication of...   \n",
       "...                                                   ...   \n",
       "153506  \ufeffShares of several software companies are trad...   \n",
       "153507  \ufeffShares of several shipping and logistics comp...   \n",
       "153508  \ufeffShares of several vaccine companies are tradi...   \n",
       "153509  \ufeffVBI Vaccines shares are trading higher on con...   \n",
       "153510  \ufeffTenneco shares are trading lower on a continu...   \n",
       "\n",
       "             predicted_label  \n",
       "0                      OTHER  \n",
       "1                      OTHER  \n",
       "2          Products-Services  \n",
       "3                   Guidance  \n",
       "4          Products-Services  \n",
       "...                      ...  \n",
       "153506  Stock price movement  \n",
       "153507            Regulatory  \n",
       "153508  Stock price movement  \n",
       "153509  Stock price movement  \n",
       "153510                 OTHER  \n",
       "\n",
       "[153511 rows x 2 columns]"
      ]
     },
     "execution_count": 11,
     "metadata": {},
     "output_type": "execute_result"
    }
   ],
   "source": [
    "# For this setup we will use 50000 samples\n",
    "df = await process_dataset(data, concurrent=200)\n",
    "df['predicted_label'] = df['predicted_label'].apply(lambda x: x.strip('[]'))\n",
    "df"
   ]
  },
  {
   "cell_type": "code",
   "execution_count": 13,
   "id": "18b367a9",
   "metadata": {},
   "outputs": [
    {
     "data": {
      "text/plain": [
       "predicted_label\n",
       "Analyst Rating                                                                                                                                                                                                                                                                                                                                                                                                                                                                       17297\n",
       "Credit Ratings                                                                                                                                                                                                                                                                                                                                                                                                                                                                         767\n",
       "Dividends                                                                                                                                                                                                                                                                                                                                                                                                                                                                             1979\n",
       "Earnings                                                                                                                                                                                                                                                                                                                                                                                                                                                                             20586\n",
       "Guidance                                                                                                                                                                                                                                                                                                                                                                                                                                                                              8489\n",
       "Labour Issues                                                                                                                                                                                                                                                                                                                                                                                                                                                                         3742\n",
       "Mergers and Acquisitions                                                                                                                                                                                                                                                                                                                                                                                                                                                              9862\n",
       "Mergers and Acquisitions]] is not correct here, since there is no mention of merging or acquisition. \\nHowever, the headline does mention an FDA approval and an analyst upgrade. \\nSince [Price Targets] takes priority and there is no price target mentioned, \\nbut [Regulatory] also takes priority and FDA approval is a regulatory event, \\nand [Analyst Rating] is also present, \\nthe event type that best classifies this headline, considering the priorities, is [[Reg        1\n",
       "OTHER                                                                                                                                                                                                                                                                                                                                                                                                                                                                                31277\n",
       "Price Targets                                                                                                                                                                                                                                                                                                                                                                                                                                                                        19427\n",
       "Product Approval                                                                                                                                                                                                                                                                                                                                                                                                                                                                      1775\n",
       "Products-Services                                                                                                                                                                                                                                                                                                                                                                                                                                                                    10050\n",
       "Regulatory                                                                                                                                                                                                                                                                                                                                                                                                                                                                            9200\n",
       "Stock price movement                                                                                                                                                                                                                                                                                                                                                                                                                                                                 19059\n",
       "dtype: int64"
      ]
     },
     "execution_count": 13,
     "metadata": {},
     "output_type": "execute_result"
    }
   ],
   "source": [
    "df.groupby('predicted_label').size()"
   ]
  },
  {
   "cell_type": "code",
   "execution_count": 14,
   "id": "66f3eb83",
   "metadata": {},
   "outputs": [],
   "source": [
    "VALID_LABELS = [\n",
    "    \"Analyst Rating\",\n",
    "    \"Price Targets\",\n",
    "    \"Earnings\",\n",
    "    \"Labour Issues\",\n",
    "    \"Mergers and Acquisitions\",\n",
    "    \"Dividends\",\n",
    "    \"Regulatory\",\n",
    "    \"Stock price movement\",\n",
    "    \"Credit Ratings\",\n",
    "    \"Products-Services\",\n",
    "    \"Product Approval\",\n",
    "    \"Guidance\",\n",
    "    \"OTHER\"\n",
    "]\n",
    "\n",
    "CLEANUP_PROMPT = \"\"\"You are a strict label standardization assistant. Map the predicted label to ONE of the 13 valid labels below.\n",
    "\n",
    "VALID LABELS (use EXACTLY these names):\n",
    "1. Analyst Rating\n",
    "2. Price Targets\n",
    "3. Earnings\n",
    "4. Labour Issues\n",
    "5. Mergers and Acquisitions\n",
    "6. Dividends\n",
    "7. Regulatory\n",
    "8. Stock price movement\n",
    "9. Credit Ratings\n",
    "10. Products-Services\n",
    "11. Product Approval\n",
    "12. Guidance\n",
    "13. OTHER\n",
    "\n",
    "INSTRUCTIONS:\n",
    "- Remove any prefixes like \"Event Type:\", brackets [[]], or extra text\n",
    "- If the predicted label is a full headline or unrelated text (like \"Market Wrap\", \"Financials\", etc.), return \"OTHER\"\n",
    "- Map common variations: \"Labor Issues\" \u2192 \"Labour Issues\", \"M&A\" \u2192 \"Mergers and Acquisitions\", etc.\n",
    "- If unsure or doesn't clearly match any category \u2192 \"OTHER\"\n",
    "- Return ONLY the exact label name from the list, nothing else\n",
    "\n",
    "PREDICTED LABEL: {predicted_label}\n",
    "\n",
    "YOUR ANSWER (one label only):\n",
    "\"\"\"\n",
    "async def clean_prediction_llm(session, prediction):\n",
    "    \"\"\"Use LLM to map prediction to valid label.\"\"\"\n",
    "    prompt = CLEANUP_PROMPT.format(predicted_label=prediction)\n",
    "    payload = {\n",
    "        \"model\": \"meta/llama-3.3-70b-instruct\",\n",
    "        \"messages\": [{\"role\": \"user\", \"content\": prompt}],\n",
    "        \"max_tokens\": 50,\n",
    "        \"temperature\": 0.9\n",
    "    }\n",
    "    \n",
    "    async with session.post(\"http://nim.test/v1/chat/completions\", json=payload) as response:\n",
    "        result = await response.json()\n",
    "        return result['choices'][0]['message']['content'].strip()\n",
    "\n",
    "async def clean_dataframe_labels(df, label_column='predicted_label', concurrent=20):\n",
    "    \"\"\"Clean all predictions in dataframe using LLM - only process invalid labels.\"\"\"\n",
    "    predictions = df[label_column].unique().tolist()\n",
    "    \n",
    "    # Separate valid and invalid predictions\n",
    "    valid_predictions = [p for p in predictions if p in VALID_LABELS]\n",
    "    invalid_predictions = [p for p in predictions if p not in VALID_LABELS]\n",
    "    \n",
    "    print(f\"Found {len(valid_predictions)} valid labels (will keep as-is)\")\n",
    "    print(f\"Found {len(invalid_predictions)} invalid labels (will clean with LLM)\\n\")\n",
    "    \n",
    "    # Create mapping - valid ones map to themselves\n",
    "    mapping = {p: p for p in valid_predictions}\n",
    "    \n",
    "    # Only process invalid predictions with LLM\n",
    "    if invalid_predictions:\n",
    "        semaphore = asyncio.Semaphore(concurrent)\n",
    "        \n",
    "        async def clean_with_limit(session, prediction):\n",
    "            async with semaphore:\n",
    "                cleaned = await clean_prediction_llm(session, prediction)\n",
    "                return prediction, cleaned\n",
    "        \n",
    "        async with aiohttp.ClientSession() as session:\n",
    "            tasks = [clean_with_limit(session, p) for p in invalid_predictions]\n",
    "            results = await asyncio.gather(*tasks)\n",
    "        \n",
    "        # Add invalid predictions mapping\n",
    "        mapping.update(dict(results))\n",
    "    \n",
    "    # Final safety check: map any remaining invalid labels to OTHER\n",
    "    for key, value in mapping.items():\n",
    "        if value not in VALID_LABELS:\n",
    "            print(f\"Warning: '{value}' not valid, mapping to OTHER\")\n",
    "            mapping[key] = \"OTHER\"\n",
    "    \n",
    "    # Apply mapping to dataframe\n",
    "    df_clean = df.copy()\n",
    "    df_clean[label_column] = df_clean[label_column].map(mapping)\n",
    "    \n",
    "    print(f\"\\n\u2713 Cleaning complete!\")\n",
    "    print(f\"\\nLabel distribution:\")\n",
    "    print(df_clean[label_column].value_counts())\n",
    "    \n",
    "    return df_clean\n"
   ]
  },
  {
   "cell_type": "code",
   "execution_count": 15,
   "id": "485a1c52",
   "metadata": {},
   "outputs": [
    {
     "name": "stdout",
     "output_type": "stream",
     "text": [
      "Found 13 valid labels (will keep as-is)\n",
      "Found 1 invalid labels (will clean with LLM)\n",
      "\n",
      "\n",
      "\u2713 Cleaning complete!\n",
      "\n",
      "Label distribution:\n",
      "predicted_label\n",
      "OTHER                       31277\n",
      "Earnings                    20586\n",
      "Price Targets               19427\n",
      "Stock price movement        19059\n",
      "Analyst Rating              17297\n",
      "Products-Services           10050\n",
      "Mergers and Acquisitions     9862\n",
      "Regulatory                   9201\n",
      "Guidance                     8489\n",
      "Labour Issues                3742\n",
      "Dividends                    1979\n",
      "Product Approval             1775\n",
      "Credit Ratings                767\n",
      "Name: count, dtype: int64\n"
     ]
    }
   ],
   "source": [
    "# Clean the predictions using LLM\n",
    "df_clean = await clean_dataframe_labels(df)"
   ]
  },
  {
   "cell_type": "code",
   "execution_count": 20,
   "id": "c0999ddc",
   "metadata": {},
   "outputs": [
    {
     "data": {
      "text/html": [
       "<div>\n",
       "<style scoped>\n",
       "    .dataframe tbody tr th:only-of-type {\n",
       "        vertical-align: middle;\n",
       "    }\n",
       "\n",
       "    .dataframe tbody tr th {\n",
       "        vertical-align: top;\n",
       "    }\n",
       "\n",
       "    .dataframe thead th {\n",
       "        text-align: right;\n",
       "    }\n",
       "</style>\n",
       "<table border=\"1\" class=\"dataframe\">\n",
       "  <thead>\n",
       "    <tr style=\"text-align: right;\">\n",
       "      <th></th>\n",
       "      <th>headline</th>\n",
       "      <th>predicted_label</th>\n",
       "    </tr>\n",
       "  </thead>\n",
       "  <tbody>\n",
       "    <tr>\n",
       "      <th>0</th>\n",
       "      <td>24/7 Wall St. CEOs Who Need to be Fired: Nine...</td>\n",
       "      <td>OTHER</td>\n",
       "    </tr>\n",
       "    <tr>\n",
       "      <th>1</th>\n",
       "      <td>3 ETFs Being Driven By Russia, Time Warner An...</td>\n",
       "      <td>OTHER</td>\n",
       "    </tr>\n",
       "    <tr>\n",
       "      <th>2</th>\n",
       "      <td>Humana and Allscripts Form Alliance to Advan...</td>\n",
       "      <td>Products-Services</td>\n",
       "    </tr>\n",
       "    <tr>\n",
       "      <th>3</th>\n",
       "      <td>2011 Investor Day: UBS Updates its Strategy a...</td>\n",
       "      <td>Guidance</td>\n",
       "    </tr>\n",
       "    <tr>\n",
       "      <th>4</th>\n",
       "      <td>Avanir Pharmaceuticals Reports Publication of...</td>\n",
       "      <td>Products-Services</td>\n",
       "    </tr>\n",
       "    <tr>\n",
       "      <th>...</th>\n",
       "      <td>...</td>\n",
       "      <td>...</td>\n",
       "    </tr>\n",
       "    <tr>\n",
       "      <th>153506</th>\n",
       "      <td>\ufeffShares of several software companies are trad...</td>\n",
       "      <td>Stock price movement</td>\n",
       "    </tr>\n",
       "    <tr>\n",
       "      <th>153507</th>\n",
       "      <td>\ufeffShares of several shipping and logistics comp...</td>\n",
       "      <td>Regulatory</td>\n",
       "    </tr>\n",
       "    <tr>\n",
       "      <th>153508</th>\n",
       "      <td>\ufeffShares of several vaccine companies are tradi...</td>\n",
       "      <td>Stock price movement</td>\n",
       "    </tr>\n",
       "    <tr>\n",
       "      <th>153509</th>\n",
       "      <td>\ufeffVBI Vaccines shares are trading higher on con...</td>\n",
       "      <td>Stock price movement</td>\n",
       "    </tr>\n",
       "    <tr>\n",
       "      <th>153510</th>\n",
       "      <td>\ufeffTenneco shares are trading lower on a continu...</td>\n",
       "      <td>OTHER</td>\n",
       "    </tr>\n",
       "  </tbody>\n",
       "</table>\n",
       "<p>153511 rows \u00d7 2 columns</p>\n",
       "</div>"
      ],
      "text/plain": [
       "                                                 headline  \\\n",
       "0        24/7 Wall St. CEOs Who Need to be Fired: Nine...   \n",
       "1        3 ETFs Being Driven By Russia, Time Warner An...   \n",
       "2         Humana and Allscripts Form Alliance to Advan...   \n",
       "3        2011 Investor Day: UBS Updates its Strategy a...   \n",
       "4        Avanir Pharmaceuticals Reports Publication of...   \n",
       "...                                                   ...   \n",
       "153506  \ufeffShares of several software companies are trad...   \n",
       "153507  \ufeffShares of several shipping and logistics comp...   \n",
       "153508  \ufeffShares of several vaccine companies are tradi...   \n",
       "153509  \ufeffVBI Vaccines shares are trading higher on con...   \n",
       "153510  \ufeffTenneco shares are trading lower on a continu...   \n",
       "\n",
       "             predicted_label  \n",
       "0                      OTHER  \n",
       "1                      OTHER  \n",
       "2          Products-Services  \n",
       "3                   Guidance  \n",
       "4          Products-Services  \n",
       "...                      ...  \n",
       "153506  Stock price movement  \n",
       "153507            Regulatory  \n",
       "153508  Stock price movement  \n",
       "153509  Stock price movement  \n",
       "153510                 OTHER  \n",
       "\n",
       "[153511 rows x 2 columns]"
      ]
     },
     "execution_count": 20,
     "metadata": {},
     "output_type": "execute_result"
    }
   ],
   "source": [
    "df_clean"
   ]
  },
  {
   "cell_type": "code",
   "execution_count": 22,
   "id": "b95ea1ae",
   "metadata": {},
   "outputs": [
    {
     "data": {
      "text/plain": [
       "<Axes: ylabel='predicted_label'>"
      ]
     },
     "execution_count": 22,
     "metadata": {},
     "output_type": "execute_result"
    },
    {
     "data": {
      "image/png": "[encoded data removed]",
      "text/plain": [
       "<Figure size 1200x600 with 1 Axes>"
      ]
     },
     "metadata": {},
     "output_type": "display_data"
    }
   ],
   "source": [
    "df_clean.groupby('predicted_label').size().sort_values(ascending=False).plot(kind='barh', figsize=(12, 6))"
   ]
  },
  {
   "cell_type": "markdown",
   "id": "3cb5abeb",
   "metadata": {},
   "source": [
    "### 2.4 Save Results and Cleanup\n",
    "\n",
    "Save the labeled dataset and delete the model deployment to free up resources.\n"
   ]
  },
  {
   "cell_type": "code",
   "execution_count": null,
   "id": "4ff177a8",
   "metadata": {},
   "outputs": [],
   "source": [
    "# Save the cleaned dataset\n",
    "df_clean.to_csv('data-flywheel-fsi/data/labelled-headlines.csv', index=False)"
   ]
  },
  {
   "cell_type": "code",
   "execution_count": 23,
   "id": "f22c6397",
   "metadata": {},
   "outputs": [
    {
     "name": "stdout",
     "output_type": "stream",
     "text": [
      "Status: 200\n",
      "Successfully deleted deployment meta/llama-3.3-70b-instruct\n"
     ]
    },
    {
     "data": {
      "text/plain": [
       "{'deleted_at': '2025-10-24 19:16:46.312716088 +0000 UTC m=+17944.971512203',\n",
       " 'id': 'llama-3.3-70b-instruct',\n",
       " 'message': 'Resource deleted successfully'}"
      ]
     },
     "execution_count": 23,
     "metadata": {},
     "output_type": "execute_result"
    }
   ],
   "source": [
    "delete_model_deployment(\"http://nemo.test\",\"llama-3.3-70b-instruct\", \"meta\")"
   ]
  },
  {
   "cell_type": "code",
   "execution_count": 24,
   "id": "c7d4ce9b",
   "metadata": {},
   "outputs": [
    {
     "name": "stdout",
     "output_type": "stream",
     "text": [
      "Status: 200\n",
      "Successfully deleted model meta/llama-3.3-70b-instruct from Entity Store\n"
     ]
    },
    {
     "data": {
      "text/plain": [
       "{'message': 'Resource deleted successfully.',\n",
       " 'id': 'model-GmTMntn8B33ezC3tvWDX7j',\n",
       " 'deleted_at': None}"
      ]
     },
     "execution_count": 24,
     "metadata": {},
     "output_type": "execute_result"
    }
   ],
   "source": [
    "delete_model_from_store(\"http://nemo.test\",\"llama-3.3-70b-instruct\", \"meta\")"
   ]
  },
  {
   "cell_type": "markdown",
   "id": "0798b3c7",
   "metadata": {},
   "source": [
    "## 3. Validation on Manually Labeled Data\n",
    "\n",
    "Validate the teacher model's performance by comparing predictions against a manually labeled test set. This provides metrics like precision, recall, and F1-score for each category.\n",
    "\n",
    "**\u26a0\ufe0f Prerequisites:** You must have the teacher model deployed (run Section 2.1 at minimum) to use this section.\n"
   ]
  },
  {
   "cell_type": "code",
   "execution_count": 56,
   "id": "6fa33c8e",
   "metadata": {},
   "outputs": [],
   "source": [
    "manually_labelled_data = datasets.load_dataset('/home/shadeform/data-flywheel-fsi/data/news_data_raw/manually_labelled')\n",
    "df_manually_labelled = manually_labelled_data['train'].to_pandas()"
   ]
  },
  {
   "cell_type": "code",
   "execution_count": null,
   "id": "1ac81336",
   "metadata": {},
   "outputs": [],
   "source": [
    "df_sanity_check = await process_dataset(manually_labelled_data, concurrent=200)\n",
    "df_sanity_check['predicted_label'] = df_sanity_check['predicted_label'].apply(lambda x: x.strip('[]'))"
   ]
  },
  {
   "cell_type": "code",
   "execution_count": 64,
   "id": "2101dc00",
   "metadata": {},
   "outputs": [
    {
     "name": "stdout",
     "output_type": "stream",
     "text": [
      "                          precision    recall  f1-score   support\n",
      "\n",
      "          Analyst Rating       0.82      0.97      0.89        96\n",
      "          Credit Ratings       0.98      0.85      0.91        61\n",
      "               Dividends       1.00      0.99      0.99        71\n",
      "                Earnings       0.97      0.93      0.95        75\n",
      "                Guidance       0.99      0.88      0.93        83\n",
      "           Labour Issues       0.77      0.82      0.80        88\n",
      "      Management changes       0.00      0.00      0.00        22\n",
      "Mergers and Acquisitions       0.89      0.85      0.87        88\n",
      "                   OTHER       0.63      0.81      0.71        93\n",
      "           Price Targets       1.00      1.00      1.00        66\n",
      "        Product Approval       1.00      0.82      0.90        72\n",
      "       Products-Services       0.89      0.82      0.85        49\n",
      "              Regulatory       0.71      0.82      0.77        85\n",
      "    Stock price movement       0.76      0.79      0.77        76\n",
      "\n",
      "                accuracy                           0.85      1025\n",
      "               macro avg       0.82      0.81      0.81      1025\n",
      "            weighted avg       0.85      0.85      0.85      1025\n",
      "\n"
     ]
    },
    {
     "name": "stderr",
     "output_type": "stream",
     "text": [
      "/home/shadeform/venv/lib/python3.10/site-packages/sklearn/metrics/_classification.py:1731: UndefinedMetricWarning: Precision is ill-defined and being set to 0.0 in labels with no predicted samples. Use `zero_division` parameter to control this behavior.\n",
      "  _warn_prf(average, modifier, f\"{metric.capitalize()} is\", result.shape[0])\n",
      "/home/shadeform/venv/lib/python3.10/site-packages/sklearn/metrics/_classification.py:1731: UndefinedMetricWarning: Precision is ill-defined and being set to 0.0 in labels with no predicted samples. Use `zero_division` parameter to control this behavior.\n",
      "  _warn_prf(average, modifier, f\"{metric.capitalize()} is\", result.shape[0])\n",
      "/home/shadeform/venv/lib/python3.10/site-packages/sklearn/metrics/_classification.py:1731: UndefinedMetricWarning: Precision is ill-defined and being set to 0.0 in labels with no predicted samples. Use `zero_division` parameter to control this behavior.\n",
      "  _warn_prf(average, modifier, f\"{metric.capitalize()} is\", result.shape[0])\n"
     ]
    }
   ],
   "source": [
    "from sklearn.metrics import classification_report\n",
    "\n",
    "\n",
    "# Print classification report\n",
    "print(classification_report(df_manually_labelled['label'], df_sanity_check['predicted_label']))\n"
   ]
  },
  {
   "cell_type": "markdown",
   "id": "a0a7f5a1",
   "metadata": {},
   "source": [
    "## 4. Visualize Existing Labels\n",
    "\n",
    "**Use this section if you skipped Section 2** to visualize the distribution of pre-existing labels in the dataset.\n",
    "\n",
    "This section does not require model deployment and works with the pre-generated labels.\n"
   ]
  },
  {
   "cell_type": "code",
   "execution_count": 25,
   "id": "cd63f680",
   "metadata": {},
   "outputs": [],
   "source": [
    "#use this code if you skipped the first section\n",
    "label_tracker = {}\n",
    "for i in data['train']['label']:\n",
    "    if i not in label_tracker:\n",
    "        label_tracker[i] = 0\n",
    "    label_tracker[i] += 1\n",
    "df_labels = pd.DataFrame(list(label_tracker.items()), columns=['label', 'count'])"
   ]
  },
  {
   "cell_type": "code",
   "execution_count": 26,
   "id": "a351c206",
   "metadata": {},
   "outputs": [],
   "source": [
    "df_labels['label'] = df_labels['label'].str.replace(r'\\[\\[|\\]\\]', '', regex=True)\n",
    "df_labels = df_labels.sort_values(by='count', ascending=False)"
   ]
  },
  {
   "cell_type": "code",
   "execution_count": 27,
   "id": "321548db",
   "metadata": {},
   "outputs": [
    {
     "data": {
      "text/plain": [
       "<Axes: ylabel='label'>"
      ]
     },
     "execution_count": 27,
     "metadata": {},
     "output_type": "execute_result"
    },
    {
     "data": {
      "image/png": "[encoded data removed]",
      "text/plain": [
       "<Figure size 1200x600 with 1 Axes>"
      ]
     },
     "metadata": {},
     "output_type": "display_data"
    }
   ],
   "source": [
    "df_labels.plot(kind='barh', x='label', y='count', figsize=(12, 6))"
   ]
  }
 ],
 "metadata": {
  "kernelspec": {
   "display_name": ".venv",
   "language": "python",
   "name": "python3"
  },
  "language_info": {
   "codemirror_mode": {
    "name": "ipython",
    "version": 3
   },
   "file_extension": ".py",
   "mimetype": "text/x-python",
   "name": "python",
   "nbconvert_exporter": "python",
   "pygments_lexer": "ipython3",
   "version": "3.12.12"
  }
 },
 "nbformat": 4,
 "nbformat_minor": 5
}