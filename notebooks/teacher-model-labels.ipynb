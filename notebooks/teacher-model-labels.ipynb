{
 "cells": [
  {
   "cell_type": "code",
   "execution_count": 38,
   "id": "15e6a579",
   "metadata": {},
   "outputs": [],
   "source": [
    "import requests\n",
    "import time\n",
    "import datasets\n",
    "import pandas as pd"
   ]
  },
  {
   "cell_type": "code",
   "execution_count": 2,
   "id": "a129be89",
   "metadata": {},
   "outputs": [
    {
     "name": "stdout",
     "output_type": "stream",
     "text": [
      "200\n",
      "{'async_enabled': False, 'config': {'model': 'meta/llama-3.3-70b-instruct', 'nim_deployment': {'additional_envs': {'NIM_GUIDED_DECODING_BACKEND': 'outlines'}, 'disable_lora_support': False, 'gpu': 2, 'image_name': 'nvcr.io/nim/meta/llama-3.2-1b-instruct', 'image_tag': '1.8.5', 'pvc_size': '25Gi'}}, 'created_at': '2025-10-23T17:11:26.311024045Z', 'deployed': False, 'name': 'llama-3.3-70b-instruct', 'namespace': 'meta', 'status_details': {'description': 'Model deployment created', 'status': 'pending'}, 'url': ''}\n"
     ]
    }
   ],
   "source": [
    "# deploy teacher model\n",
    "# llama-3.3-70b-instruct\n",
    "\n",
    "url = \"http://nemo.test/v1/deployment/model-deployments\"  # if you used Launchable setup, then the base url will be http://nemo.test. Otherwise, change the base url accordingly.\n",
    "headers = {\n",
    "    \"accept\": \"application/json\",\n",
    "    \"Content-Type\": \"application/json\",\n",
    "}\n",
    "payload = {\n",
    "    \"name\": \"llama-3.3-70b-instruct\",\n",
    "    \"namespace\": \"meta\",\n",
    "    \"config\": {\n",
    "        \"model\": \"meta/llama-3.3-70b-instruct\",\n",
    "        \"nim_deployment\": {\n",
    "            \"image_name\": \"nvcr.io/nim/meta/llama-3.2-1b-instruct\",\n",
    "            \"image_tag\": \"1.8.5\",\n",
    "            \"pvc_size\": \"25Gi\",\n",
    "            \"gpu\": 2,\n",
    "            \"additional_envs\": {\n",
    "                \"NIM_GUIDED_DECODING_BACKEND\": \"outlines\"\n",
    "            }\n",
    "        }\n",
    "    }\n",
    "}\n",
    "\n",
    "response = requests.post(url, headers=headers, json=payload)\n",
    "print(response.status_code)\n",
    "print(response.json())\n"
   ]
  },
  {
   "cell_type": "code",
   "execution_count": 21,
   "id": "2b87b247",
   "metadata": {},
   "outputs": [
    {
     "name": "stdout",
     "output_type": "stream",
     "text": [
      "Models: ['meta/llama-3.3-70b-instruct']\n"
     ]
    }
   ],
   "source": [
    "# List models\n",
    "response = requests.get(\"http://nim.test/v1/models\")\n",
    "if response.status_code == 200:\n",
    "    models = [m['id'] for m in response.json()['data']]\n",
    "    print(f\"Models: {models}\") "
   ]
  },
  {
   "cell_type": "code",
   "execution_count": null,
   "id": "1bf0c2b1",
   "metadata": {},
   "outputs": [
    {
     "name": "stdout",
     "output_type": "stream",
     "text": [
      "The capital of France is Paris.\n"
     ]
    }
   ],
   "source": [
    "# test the deployment with a simple prompt\n",
    "url = \"http://nim.test/v1/chat/completions\"\n",
    "\n",
    "payload = {\n",
    "    \"model\": \"meta/llama-3.3-70b-instruct\",\n",
    "    \"messages\": [\n",
    "        {\"role\": \"user\", \"content\": \"What is the capital of France?\"}\n",
    "    ],\n",
    "    \"max_tokens\": 200,\n",
    "    \"temperature\": 0.7\n",
    "}\n",
    "\n",
    "response = requests.post(url, json=payload)\n",
    "print(response.json()['choices'][0]['message']['content'])"
   ]
  },
  {
   "cell_type": "code",
   "execution_count": 27,
   "id": "b85f4b97",
   "metadata": {},
   "outputs": [],
   "source": [
    "data = datasets.load_dataset(\"/home/shadeform/data-flywheel-fsi/data/news_data_raw\")"
   ]
  },
  {
   "cell_type": "code",
   "execution_count": 32,
   "id": "87ab0a18",
   "metadata": {},
   "outputs": [],
   "source": [
    "PROMPT = \"\"\"\n",
    "You are a helpful AI assistant that analyses financial news headlines and identifies what event type is described.\n",
    "You will classify event types into one of the following categories (in square brackets)\n",
    "\n",
    "- [Analyst Rating]: An entity such as a bank, asset manager, etc. gives a classification/rating/downgrade/upgrade/opinion to an asset.\n",
    "                    If there is no specified analyst and company given, it's not Analyst Rating and should be classified as OTHER.\n",
    "- [Price Targets]: A mention of a price target (PT) is given by an entity such as bank, asset manager, etc.\n",
    "                   This takes priority over any other class, so if a price target is present use this class!\n",
    "- [Earnings]: Reports of quarterly, monthly, etc. concrete values of revenue, ESP, etc. Percentage fluctations.\n",
    "              Expected values are not Earnings and should be Guidance instead!\n",
    "- [Labour Issues]: Mentions of layoffs, union action, strikes, rising cost of labour, bonuses for execs, etc. Important personal change, e.g. CEO, CFO, VPs, etc.\n",
    "- [Mergers and Acquisitions]: Whenever merging or acquisition of entities, not just companies, is mentioned.\n",
    "                              Things like partnerships do not belong to this class! Takes priority over other classes.\n",
    "- [Dividends]: Mentions of dividend performance, dividend per share, decisions not to issue dividends, etc.\n",
    "- [Regulatory]: Mentions corporate position focused on environmental affairs, government regulation, international treaties, geopolitics, debt repayment, licenses, patents, etc.\n",
    "                Any executive decisions taken by the government are Regulatory. Takes priority over other classes.\n",
    "- [Stock price movement]: Includes pricing of public offerings, daily, monthly and yearly movements, highs and lows, options trade and alerts, etc.\n",
    "                          Only relevant when a specific entity/industry or set of entities/industries mentioned.\n",
    "                          Quantities such as sales, are not stock price movements. Stock splits do not count as stock movements.\n",
    "                          Takes priority over Earnings, Stock Price Movement, Credit Ratings\n",
    "- [Credit Ratings]: Adjustments of company's borrowing capacity, changes in debt values, changes in ratings, etc.\n",
    "- [Products-Services]: Mentions of a company's particular product, forward-looking product directions, disruption, government and private contracts, etc.\n",
    "                       Any sort of delay regarding a product roll-out, etc.\n",
    "- [Product Approval]: Mentions FDA approvals, environmental approvals, acceptance for review. Any time an entity approves the rollout of a corporations product.\n",
    "- [Guidance]: Forward looking statements issued by the company's themselves regarding Revenue, EPS, potential sales going up/down, number of contracts, etc.\n",
    "              Similar talk to earnings but about projections rather than realised.\n",
    "              \n",
    "If the headline doesn't match any of the classes, classify it as OTHER.\n",
    "ATTENTION:\n",
    "  - Only assign a category if the headline meets all the criteria listed for that category. Otherwise use OTHER\n",
    "  - Encourage precise matching rather than assigning categories based on partial or superficial similarities\n",
    "  - OTHER is the default category when in doubt\n",
    "  - If there are no specific companies mentioned, use OTHER\n",
    "\n",
    "A few examples:\n",
    "\n",
    "1. Cornerstone OnDemand Higher as Barclays Upgraded to Overweight -> [Analyst Rating]\n",
    "2. HC Wainwright & Co. Maintains Buy on Balchem, Lowers Price Target to $104 -> [Price Targets]\n",
    "3. Sina Reports Q4 Adj. EPS $0.24 vs $0.18 Est., Sales $211.1M vs $207.6M Est.; Sees FY15 Sales $800M-$900M vs $884.6M Est. -> [Earnings]\n",
    "4. Delta To Buy Out Employees, Offer Early Retirement (DAL) -> [Labour Issues]\n",
    "5. Constant Contact Announces Deal to Be Purchased by Endurance Int'l at $32/Share -> [Mergers and Acquisitions]\n",
    "6. Ameriprise Financial Announces 12% Qtr. Dividend Increase to $0.58/Share -> [Dividends]\n",
    "7. Ultratech Achieves ISO 9001 and 14001 Certification for Singapore Operations and Recertification for U.S. Facility  -> [Regulatory]\n",
    "8. Mid-Afternoon Market Update: Dow Up Over 200 Points; Lakeland Industries Shares Spike Higher -> [Stock price movement]\n",
    "9. Moody's Affirms Ratings on Nokia; Outlook Revised from Negative to Developing -> [Credit Ratings]\n",
    "10. NOVAVAX Awarded HHS-BARDA Contract Valued at up to $179 Million  -> [Products-Services]\n",
    "11. Sanofi's Genzyme Announces Lemtrada Resubmission Accepted for Review by FDA  -> [Product Approval]\n",
    "12. Dot Hill Systems Announces Re-alignment of Software Development Initiatives; Sees Q4 EPS of $(0.02)-(0.03) vs $0.03-(0.03) Prior  -> [Guidance]\n",
    "13. Kopin Chairman Fan Buys 116,400 Shares @$2.83/Share -Form 4 -> [OTHER]\n",
    "\n",
    "Given the following headline:\n",
    "\n",
    "### START HEADLINE ###\n",
    "\n",
    "{headline}\n",
    "\n",
    "### END HEADLINE ###\n",
    "\n",
    "What event type best classifies it? Answer only with your predicted class and give it inside double square brackets, like [[class]]\n",
    "\"\"\""
   ]
  },
  {
   "cell_type": "code",
   "execution_count": 43,
   "id": "9fa0bae4",
   "metadata": {},
   "outputs": [],
   "source": [
    "import asyncio\n",
    "import aiohttp\n",
    "\n",
    "async def classify_headline(session, headline):\n",
    "    \"\"\"Get classification for a single headline.\"\"\"\n",
    "    # Use the PROMPT from the notebook, formatted with the headline\n",
    "    prompt = PROMPT.format(headline=headline)\n",
    "    payload = {\n",
    "        \"model\": \"meta/llama-3.3-70b-instruct\",\n",
    "        \"messages\": [\n",
    "            {\"role\": \"user\", \"content\": prompt}\n",
    "        ],\n",
    "        \"max_tokens\": 100,\n",
    "        \"temperature\": 0.1\n",
    "    }\n",
    "    \n",
    "    async with session.post(\"http://nim.test/v1/chat/completions\", json=payload) as response:\n",
    "        result = await response.json()\n",
    "        return result['choices'][0]['message']['content']\n",
    "\n",
    "async def process_dataset(dataset, num_samples=None, concurrent=10):\n",
    "    \"\"\"Process headlines and return DataFrame with headline and predicted_label.\"\"\"\n",
    "    # Access headlines directly from the dataset column\n",
    "    if num_samples is None:\n",
    "        headlines = dataset['train']['headline']\n",
    "    else:\n",
    "        headlines = dataset['train']['headline'][:num_samples]\n",
    "    \n",
    "    semaphore = asyncio.Semaphore(concurrent)\n",
    "    \n",
    "    async def classify_with_limit(session, headline):\n",
    "        async with semaphore:\n",
    "            label = await classify_headline(session, headline)\n",
    "            return {\"headline\": headline, \"predicted_label\": label}\n",
    "    \n",
    "    async with aiohttp.ClientSession() as session:\n",
    "        tasks = [classify_with_limit(session, h) for h in headlines]\n",
    "        results = await asyncio.gather(*tasks)\n",
    "    \n",
    "    return pd.DataFrame(results)\n"
   ]
  },
  {
   "cell_type": "code",
   "execution_count": null,
   "id": "7ba38937",
   "metadata": {},
   "outputs": [],
   "source": [
    "# For this setup we will use 50000 samples\n",
    "df = await process_dataset(data, num_samples=50000, concurrent=100)\n",
    "df"
   ]
  },
  {
   "cell_type": "code",
   "execution_count": null,
   "id": "485a1c52",
   "metadata": {},
   "outputs": [],
   "source": [
    "# To process the full dataset (or a larger sample):\n",
    "# df_full = await process_dataset(data, num_samples=None, concurrent=10)\n",
    "# df_full.to_csv('classified_headlines.csv', index=False)\n"
   ]
  },
  {
   "cell_type": "code",
   "execution_count": null,
   "id": "cd63f680",
   "metadata": {},
   "outputs": [],
   "source": [
    "\n"
   ]
  },
  {
   "cell_type": "code",
   "execution_count": null,
   "id": "5545982c",
   "metadata": {},
   "outputs": [],
   "source": []
  }
 ],
 "metadata": {
  "kernelspec": {
   "display_name": "venv",
   "language": "python",
   "name": "python3"
  },
  "language_info": {
   "codemirror_mode": {
    "name": "ipython",
    "version": 3
   },
   "file_extension": ".py",
   "mimetype": "text/x-python",
   "name": "python",
   "nbconvert_exporter": "python",
   "pygments_lexer": "ipython3",
   "version": "3.10.12"
  }
 },
 "nbformat": 4,
 "nbformat_minor": 5
}
