{
 "cells": [
  {
   "cell_type": "code",
   "execution_count": 157,
   "id": "3d13ea21",
   "metadata": {},
   "outputs": [
    {
     "data": {
      "text/plain": [
       "DatasetDict({\n",
       "    train: Dataset({\n",
       "        features: ['headline', 'label'],\n",
       "        num_rows: 153511\n",
       "    })\n",
       "})"
      ]
     },
     "execution_count": 157,
     "metadata": {},
     "output_type": "execute_result"
    }
   ],
   "source": [
    "import datasets\n",
    "data = datasets.load_dataset(\"/home/shadeform/data-flywheel-fsi/data/news_data_raw\")\n",
    "data"
   ]
  },
  {
   "cell_type": "markdown",
   "id": "4c674150",
   "metadata": {},
   "source": [
    "# (Optional) Use a teacher model to generate labels\n",
    "\n",
    "Skip this section if you want to use the labels which are already pre-populate.\n",
    "This notebook takes around an hour to run:\n",
    "- Deploy llama 3.3 70b model 15-20 mins\n",
    "- Run prompt on sample dataset (115k examples) 35-45 mins depending on GPU hardware"
   ]
  },
  {
   "cell_type": "code",
   "execution_count": 158,
   "id": "15e6a579",
   "metadata": {},
   "outputs": [],
   "source": [
    "import requests\n",
    "import time\n",
    "import datasets\n",
    "import pandas as pd"
   ]
  },
  {
   "cell_type": "code",
   "execution_count": 159,
   "id": "143c8d91",
   "metadata": {},
   "outputs": [],
   "source": [
    "# Delete a model deployment (running instance)\n",
    "def delete_model_deployment(ENTITY_STORE_URL,name, namespace=\"meta\"):\n",
    "    \"\"\"Delete a model deployment from nemo.test (stops the running instance)\"\"\"\n",
    "    url = f\"{ENTITY_STORE_URL}/v1/deployment/model-deployments/{namespace}/{name}\"\n",
    "    headers = {\n",
    "        \"accept\": \"application/json\",\n",
    "        \"Content-Type\": \"application/json\"\n",
    "    }\n",
    "    \n",
    "    response = requests.delete(url, headers=headers)\n",
    "    print(f\"Status: {response.status_code}\")\n",
    "    if response.status_code == 200:\n",
    "        print(f\"Successfully deleted deployment {namespace}/{name}\")\n",
    "        return response.json()\n",
    "    else:\n",
    "        print(f\"Error: {response.text}\")\n",
    "        return None\n",
    "\n",
    "# Delete a model from Entity Store (registry)\n",
    "def delete_model_from_store(ENTITY_STORE_URL,name, namespace=\"meta\"):\n",
    "    \"\"\"Delete a model from Entity Store (removes from model registry)\"\"\"\n",
    "    url = f\"{ENTITY_STORE_URL}/v1/models/{namespace}/{name}\"\n",
    "    headers = {\n",
    "        \"accept\": \"application/json\",\n",
    "        \"Content-Type\": \"application/json\"\n",
    "    }\n",
    "    \n",
    "    response = requests.delete(url, headers=headers)\n",
    "    print(f\"Status: {response.status_code}\")\n",
    "    if response.status_code == 200:\n",
    "        print(f\"Successfully deleted model {namespace}/{name} from Entity Store\")\n",
    "        return response.json()\n",
    "    else:\n",
    "        print(f\"Error: {response.text}\")\n",
    "        return None\n",
    "\n",
    "# List all model deployments\n",
    "def list_model_deployments(ENTITY_STORE_URL):\n",
    "    \"\"\"List all model deployments\"\"\"\n",
    "    url = f\"{ENTITY_STORE_URL}/v1/deployment/model-deployments\"\n",
    "    headers = {\"accept\": \"application/json\"}\n",
    "    \n",
    "    response = requests.get(url, headers=headers)\n",
    "    if response.status_code == 200:\n",
    "        deployments = response.json()\n",
    "        print(f\"Found {len(deployments)} deployment(s):\\n\")\n",
    "        return deployments\n",
    "    else:\n",
    "        print(f\"Error: {response.text}\")\n",
    "        return None\n",
    "\n",
    "def create_model_deployment(ENTITY_STORE_URL,name, namespace=\"meta\", payload=None):\n",
    "    \"\"\"Create a new model deployment\"\"\"\n",
    "    url = f\"{ENTITY_STORE_URL}/v1/deployment/model-deployments\"\n",
    "    headers = {\n",
    "        \"accept\": \"application/json\",\n",
    "        \"Content-Type\": \"application/json\"\n",
    "    }\n",
    "    response = requests.post(url, headers=headers, json=payload)\n",
    "    print(response.status_code)\n",
    "    print(response.json())"
   ]
  },
  {
   "cell_type": "code",
   "execution_count": 160,
   "id": "b69ddce7",
   "metadata": {},
   "outputs": [
    {
     "name": "stdout",
     "output_type": "stream",
     "text": [
      "Found 4 deployment(s):\n",
      "\n"
     ]
    },
    {
     "data": {
      "text/plain": [
       "{'data': None,\n",
       " 'filter': {},\n",
       " 'object': 'list',\n",
       " 'pagination': {'current_page_size': 0,\n",
       "  'page': 1,\n",
       "  'page_size': 10,\n",
       "  'total_pages': 1,\n",
       "  'total_results': 0}}"
      ]
     },
     "execution_count": 160,
     "metadata": {},
     "output_type": "execute_result"
    }
   ],
   "source": [
    "list_model_deployments(\"http://nemo.test\")"
   ]
  },
  {
   "cell_type": "code",
   "execution_count": 161,
   "id": "9d9170c0",
   "metadata": {},
   "outputs": [
    {
     "name": "stdout",
     "output_type": "stream",
     "text": [
      "200\n",
      "{'async_enabled': False, 'config': {'model': 'meta/llama-3.3-70b-instruct', 'nim_deployment': {'additional_envs': {'NIM_GUIDED_DECODING_BACKEND': 'outlines'}, 'disable_lora_support': False, 'gpu': 2, 'image_name': 'nvcr.io/nim/meta/llama-3.2-1b-instruct', 'image_tag': '1.8.5', 'pvc_size': '25Gi'}}, 'created_at': '2025-10-23T20:32:13.62341578Z', 'deployed': False, 'name': 'llama-3.3-70b-instruct', 'namespace': 'meta', 'status_details': {'description': 'Model deployment created', 'status': 'pending'}, 'url': ''}\n"
     ]
    }
   ],
   "source": [
    "# create model deployment\n",
    "payload = {\n",
    "    \"name\": \"llama-3.3-70b-instruct\",\n",
    "    \"namespace\": \"meta\",\n",
    "    \"config\": {\n",
    "        \"model\": \"meta/llama-3.3-70b-instruct\",\n",
    "        \"nim_deployment\": {\n",
    "            \"image_name\": \"nvcr.io/nim/meta/llama-3.2-1b-instruct\",\n",
    "            \"image_tag\": \"1.8.5\",\n",
    "            \"pvc_size\": \"25Gi\",\n",
    "            \"gpu\": 2,\n",
    "            \"additional_envs\": {\n",
    "                \"NIM_GUIDED_DECODING_BACKEND\": \"outlines\",\n",
    "            }\n",
    "        }\n",
    "    }\n",
    "}\n",
    "\n",
    "create_model_deployment(\"http://nemo.test\",\"llama-3.3-70b-instruct\", \"meta\", payload)"
   ]
  },
  {
   "cell_type": "code",
   "execution_count": 162,
   "id": "2b87b247",
   "metadata": {},
   "outputs": [
    {
     "name": "stdout",
     "output_type": "stream",
     "text": [
      "Models: []\n"
     ]
    }
   ],
   "source": [
    "# List models\n",
    "response = requests.get(\"http://nim.test/v1/models\")\n",
    "if response.status_code == 200:\n",
    "    models = [m['id'] for m in response.json()['data']]\n",
    "    print(f\"Models: {models}\") "
   ]
  },
  {
   "cell_type": "code",
   "execution_count": null,
   "id": "1bf0c2b1",
   "metadata": {},
   "outputs": [],
   "source": [
    "# test the deployment with a simple prompt\n",
    "url = \"http://nim.test/v1/chat/completions\"\n",
    "\n",
    "payload = {\n",
    "    \"model\": \"meta/llama-3.3-70b-instruct\",\n",
    "    \"messages\": [\n",
    "        {\"role\": \"user\", \"content\": \"What is the capital of France?\"}\n",
    "    ],\n",
    "    \"max_tokens\": 200,\n",
    "    \"temperature\": 0.7\n",
    "}\n",
    "\n",
    "response = requests.post(url, json=payload)\n",
    "print(response.json()['choices'][0]['message']['content'])"
   ]
  },
  {
   "cell_type": "code",
   "execution_count": null,
   "id": "87ab0a18",
   "metadata": {},
   "outputs": [],
   "source": [
    "PROMPT = \"\"\"\n",
    "You are a helpful AI assistant that analyses financial news headlines and identifies what event type is described.\n",
    "You will classify event types into one of the following categories (in square brackets)\n",
    "\n",
    "- [Analyst Rating]: An entity such as a bank, asset manager, etc. gives a classification/rating/downgrade/upgrade/opinion to an asset.\n",
    "                    If there is no specified analyst and company given, it's not Analyst Rating and should be classified as OTHER.\n",
    "- [Price Targets]: A mention of a price target (PT) is given by an entity such as bank, asset manager, etc.\n",
    "                   This takes priority over any other class, so if a price target is present use this class!\n",
    "- [Earnings]: Reports of quarterly, monthly, etc. concrete values of revenue, ESP, etc. Percentage fluctations.\n",
    "              Expected values are not Earnings and should be Guidance instead!\n",
    "- [Labour Issues]: Mentions of layoffs, union action, strikes, rising cost of labour, bonuses for execs, etc. Important personal change, e.g. CEO, CFO, VPs, etc.\n",
    "- [Mergers and Acquisitions]: Whenever merging or acquisition of entities, not just companies, is mentioned.\n",
    "                              Things like partnerships do not belong to this class! Takes priority over other classes.\n",
    "- [Dividends]: Mentions of dividend performance, dividend per share, decisions not to issue dividends, etc.\n",
    "- [Regulatory]: Mentions corporate position focused on environmental affairs, government regulation, international treaties, geopolitics, debt repayment, licenses, patents, etc.\n",
    "                Any executive decisions taken by the government are Regulatory. Takes priority over other classes.\n",
    "- [Stock price movement]: Includes pricing of public offerings, daily, monthly and yearly movements, highs and lows, options trade and alerts, etc.\n",
    "                          Only relevant when a specific entity/industry or set of entities/industries mentioned.\n",
    "                          Quantities such as sales, are not stock price movements. Stock splits do not count as stock movements.\n",
    "                          Takes priority over Earnings, Stock Price Movement, Credit Ratings\n",
    "- [Credit Ratings]: Adjustments of company's borrowing capacity, changes in debt values, changes in ratings, etc.\n",
    "- [Products-Services]: Mentions of a company's particular product, forward-looking product directions, disruption, government and private contracts, etc.\n",
    "                       Any sort of delay regarding a product roll-out, etc.\n",
    "- [Product Approval]: Mentions FDA approvals, environmental approvals, acceptance for review. Any time an entity approves the rollout of a corporations product.\n",
    "- [Guidance]: Forward looking statements issued by the company's themselves regarding Revenue, EPS, potential sales going up/down, number of contracts, etc.\n",
    "              Similar talk to earnings but about projections rather than realised.\n",
    "              \n",
    "If the headline doesn't match any of the classes, classify it as OTHER.\n",
    "ATTENTION:\n",
    "  - Only assign a category if the headline meets all the criteria listed for that category. Otherwise use OTHER\n",
    "  - Encourage precise matching rather than assigning categories based on partial or superficial similarities\n",
    "  - OTHER is the default category when in doubt\n",
    "  - If there are no specific companies mentioned, use OTHER\n",
    "\n",
    "A few examples:\n",
    "\n",
    "1. Cornerstone OnDemand Higher as Barclays Upgraded to Overweight -> [Analyst Rating]\n",
    "2. HC Wainwright & Co. Maintains Buy on Balchem, Lowers Price Target to $104 -> [Price Targets]\n",
    "3. Sina Reports Q4 Adj. EPS $0.24 vs $0.18 Est., Sales $211.1M vs $207.6M Est.; Sees FY15 Sales $800M-$900M vs $884.6M Est. -> [Earnings]\n",
    "4. Delta To Buy Out Employees, Offer Early Retirement (DAL) -> [Labour Issues]\n",
    "5. Constant Contact Announces Deal to Be Purchased by Endurance Int'l at $32/Share -> [Mergers and Acquisitions]\n",
    "6. Ameriprise Financial Announces 12% Qtr. Dividend Increase to $0.58/Share -> [Dividends]\n",
    "7. Ultratech Achieves ISO 9001 and 14001 Certification for Singapore Operations and Recertification for U.S. Facility  -> [Regulatory]\n",
    "8. Mid-Afternoon Market Update: Dow Up Over 200 Points; Lakeland Industries Shares Spike Higher -> [Stock price movement]\n",
    "9. Moody's Affirms Ratings on Nokia; Outlook Revised from Negative to Developing -> [Credit Ratings]\n",
    "10. NOVAVAX Awarded HHS-BARDA Contract Valued at up to $179 Million  -> [Products-Services]\n",
    "11. Sanofi's Genzyme Announces Lemtrada Resubmission Accepted for Review by FDA  -> [Product Approval]\n",
    "12. Dot Hill Systems Announces Re-alignment of Software Development Initiatives; Sees Q4 EPS of $(0.02)-(0.03) vs $0.03-(0.03) Prior  -> [Guidance]\n",
    "13. Kopin Chairman Fan Buys 116,400 Shares @$2.83/Share -Form 4 -> [OTHER]\n",
    "\n",
    "Given the following headline:\n",
    "\n",
    "### START HEADLINE ###\n",
    "\n",
    "{headline}\n",
    "\n",
    "### END HEADLINE ###\n",
    "\n",
    "What event type best classifies it? Answer only with your predicted class and give it inside double square brackets, like [[class]]\n",
    "\"\"\""
   ]
  },
  {
   "cell_type": "code",
   "execution_count": null,
   "id": "9fa0bae4",
   "metadata": {},
   "outputs": [],
   "source": [
    "import asyncio\n",
    "import aiohttp\n",
    "\n",
    "async def classify_headline(session, headline):\n",
    "    \"\"\"Get classification for a single headline.\"\"\"\n",
    "    # Use the PROMPT from the notebook, formatted with the headline\n",
    "    prompt = PROMPT.format(headline=headline)\n",
    "    payload = {\n",
    "        \"model\": \"meta/llama-3.3-70b-instruct\",\n",
    "        \"messages\": [\n",
    "            {\"role\": \"user\", \"content\": prompt}\n",
    "        ],\n",
    "        \"max_tokens\": 100,\n",
    "        \"temperature\": 0.4\n",
    "    }\n",
    "    \n",
    "    async with session.post(\"http://nim.test/v1/chat/completions\", json=payload) as response:\n",
    "        result = await response.json()\n",
    "        return result['choices'][0]['message']['content']\n",
    "\n",
    "async def process_dataset(dataset, num_samples=None, concurrent=10):\n",
    "    \"\"\"Process headlines and return DataFrame with headline and predicted_label.\"\"\"\n",
    "    # Access headlines directly from the dataset column\n",
    "    if num_samples is None:\n",
    "        headlines = dataset['train']['headline']\n",
    "    else:\n",
    "        headlines = dataset['train']['headline'][:num_samples]\n",
    "    \n",
    "    semaphore = asyncio.Semaphore(concurrent)\n",
    "    \n",
    "    async def classify_with_limit(session, headline):\n",
    "        async with semaphore:\n",
    "            label = await classify_headline(session, headline)\n",
    "            return {\"headline\": headline, \"predicted_label\": label}\n",
    "    \n",
    "    async with aiohttp.ClientSession() as session:\n",
    "        tasks = [classify_with_limit(session, h) for h in headlines]\n",
    "        results = await asyncio.gather(*tasks)\n",
    "    \n",
    "    return pd.DataFrame(results)\n"
   ]
  },
  {
   "cell_type": "code",
   "execution_count": null,
   "id": "7ba38937",
   "metadata": {},
   "outputs": [
    {
     "data": {
      "text/html": [
       "<div>\n",
       "<style scoped>\n",
       "    .dataframe tbody tr th:only-of-type {\n",
       "        vertical-align: middle;\n",
       "    }\n",
       "\n",
       "    .dataframe tbody tr th {\n",
       "        vertical-align: top;\n",
       "    }\n",
       "\n",
       "    .dataframe thead th {\n",
       "        text-align: right;\n",
       "    }\n",
       "</style>\n",
       "<table border=\"1\" class=\"dataframe\">\n",
       "  <thead>\n",
       "    <tr style=\"text-align: right;\">\n",
       "      <th></th>\n",
       "      <th>headline</th>\n",
       "      <th>predicted_label</th>\n",
       "    </tr>\n",
       "  </thead>\n",
       "  <tbody>\n",
       "    <tr>\n",
       "      <th>0</th>\n",
       "      <td>24/7 Wall St. CEOs Who Need to be Fired: Nine...</td>\n",
       "      <td>Analyst Rating</td>\n",
       "    </tr>\n",
       "    <tr>\n",
       "      <th>1</th>\n",
       "      <td>3 ETFs Being Driven By Russia, Time Warner An...</td>\n",
       "      <td>Mergers and Acquisitions</td>\n",
       "    </tr>\n",
       "    <tr>\n",
       "      <th>2</th>\n",
       "      <td>Humana and Allscripts Form Alliance to Advan...</td>\n",
       "      <td>Mergers and Acquisitions</td>\n",
       "    </tr>\n",
       "    <tr>\n",
       "      <th>3</th>\n",
       "      <td>2011 Investor Day: UBS Updates its Strategy a...</td>\n",
       "      <td>Earnings</td>\n",
       "    </tr>\n",
       "    <tr>\n",
       "      <th>4</th>\n",
       "      <td>Avanir Pharmaceuticals Reports Publication of...</td>\n",
       "      <td>Earnings</td>\n",
       "    </tr>\n",
       "    <tr>\n",
       "      <th>...</th>\n",
       "      <td>...</td>\n",
       "      <td>...</td>\n",
       "    </tr>\n",
       "    <tr>\n",
       "      <th>153506</th>\n",
       "      <td>﻿Shares of several software companies are trad...</td>\n",
       "      <td>Stock Price Movement</td>\n",
       "    </tr>\n",
       "    <tr>\n",
       "      <th>153507</th>\n",
       "      <td>﻿Shares of several shipping and logistics comp...</td>\n",
       "      <td>Mergers and Acquisitions</td>\n",
       "    </tr>\n",
       "    <tr>\n",
       "      <th>153508</th>\n",
       "      <td>﻿Shares of several vaccine companies are tradi...</td>\n",
       "      <td>Stock Price Movement</td>\n",
       "    </tr>\n",
       "    <tr>\n",
       "      <th>153509</th>\n",
       "      <td>﻿VBI Vaccines shares are trading higher on con...</td>\n",
       "      <td>Stock Price Movement</td>\n",
       "    </tr>\n",
       "    <tr>\n",
       "      <th>153510</th>\n",
       "      <td>﻿Tenneco shares are trading lower on a continu...</td>\n",
       "      <td>Mergers and Acquisitions</td>\n",
       "    </tr>\n",
       "  </tbody>\n",
       "</table>\n",
       "<p>153511 rows × 2 columns</p>\n",
       "</div>"
      ],
      "text/plain": [
       "                                                 headline  \\\n",
       "0        24/7 Wall St. CEOs Who Need to be Fired: Nine...   \n",
       "1        3 ETFs Being Driven By Russia, Time Warner An...   \n",
       "2         Humana and Allscripts Form Alliance to Advan...   \n",
       "3        2011 Investor Day: UBS Updates its Strategy a...   \n",
       "4        Avanir Pharmaceuticals Reports Publication of...   \n",
       "...                                                   ...   \n",
       "153506  ﻿Shares of several software companies are trad...   \n",
       "153507  ﻿Shares of several shipping and logistics comp...   \n",
       "153508  ﻿Shares of several vaccine companies are tradi...   \n",
       "153509  ﻿VBI Vaccines shares are trading higher on con...   \n",
       "153510  ﻿Tenneco shares are trading lower on a continu...   \n",
       "\n",
       "                 predicted_label  \n",
       "0                 Analyst Rating  \n",
       "1       Mergers and Acquisitions  \n",
       "2       Mergers and Acquisitions  \n",
       "3                       Earnings  \n",
       "4                       Earnings  \n",
       "...                          ...  \n",
       "153506      Stock Price Movement  \n",
       "153507  Mergers and Acquisitions  \n",
       "153508      Stock Price Movement  \n",
       "153509      Stock Price Movement  \n",
       "153510  Mergers and Acquisitions  \n",
       "\n",
       "[153511 rows x 2 columns]"
      ]
     },
     "execution_count": 102,
     "metadata": {},
     "output_type": "execute_result"
    }
   ],
   "source": [
    "# For this setup we will use 50000 samples\n",
    "df = await process_dataset(data, concurrent=200)\n",
    "df['predicted_label'] = df['predicted_label'].apply(lambda x: x.strip('[]'))\n",
    "df"
   ]
  },
  {
   "cell_type": "code",
   "execution_count": null,
   "id": "18b367a9",
   "metadata": {},
   "outputs": [
    {
     "data": {
      "text/plain": [
       "predicted_label\n",
       "Acquisition                                                   16\n",
       "Acquisitions                                                  16\n",
       "Acquisitions and Mergers                                       2\n",
       "Analyst Concerned About Harley's International Business        1\n",
       "Analyst Rating                                             37150\n",
       "                                                           ...  \n",
       "Stock price movement                                          53\n",
       "Stocks To Watch For April 8                                    1\n",
       "Strategic Relationship                                         1\n",
       "Supply Glut                                                    1\n",
       "Trade Deficit                                                  1\n",
       "Length: 63, dtype: int64"
      ]
     },
     "execution_count": 142,
     "metadata": {},
     "output_type": "execute_result"
    }
   ],
   "source": [
    "df.groupby('predicted_label').size()"
   ]
  },
  {
   "cell_type": "code",
   "execution_count": null,
   "id": "66f3eb83",
   "metadata": {},
   "outputs": [],
   "source": [
    "VALID_LABELS = [\n",
    "    \"Analyst Rating\",\n",
    "    \"Price Targets\",\n",
    "    \"Earnings\",\n",
    "    \"Labour Issues\",\n",
    "    \"Mergers and Acquisitions\",\n",
    "    \"Dividends\",\n",
    "    \"Regulatory\",\n",
    "    \"Stock price movement\",\n",
    "    \"Credit Ratings\",\n",
    "    \"Products-Services\",\n",
    "    \"Product Approval\",\n",
    "    \"Guidance\",\n",
    "    \"OTHER\"\n",
    "]\n",
    "\n",
    "CLEANUP_PROMPT = \"\"\"You are a strict label standardization assistant. Map the predicted label to ONE of the 13 valid labels below.\n",
    "\n",
    "VALID LABELS (use EXACTLY these names):\n",
    "1. Analyst Rating\n",
    "2. Price Targets\n",
    "3. Earnings\n",
    "4. Labour Issues\n",
    "5. Mergers and Acquisitions\n",
    "6. Dividends\n",
    "7. Regulatory\n",
    "8. Stock price movement\n",
    "9. Credit Ratings\n",
    "10. Products-Services\n",
    "11. Product Approval\n",
    "12. Guidance\n",
    "13. OTHER\n",
    "\n",
    "INSTRUCTIONS:\n",
    "- Remove any prefixes like \"Event Type:\", brackets [[]], or extra text\n",
    "- If the predicted label is a full headline or unrelated text (like \"Market Wrap\", \"Financials\", etc.), return \"OTHER\"\n",
    "- Map common variations: \"Labor Issues\" → \"Labour Issues\", \"M&A\" → \"Mergers and Acquisitions\", etc.\n",
    "- If unsure or doesn't clearly match any category → \"OTHER\"\n",
    "- Return ONLY the exact label name from the list, nothing else\n",
    "\n",
    "PREDICTED LABEL: {predicted_label}\n",
    "\n",
    "YOUR ANSWER (one label only):\n",
    "\"\"\"\n",
    "async def clean_prediction_llm(session, prediction):\n",
    "    \"\"\"Use LLM to map prediction to valid label.\"\"\"\n",
    "    prompt = CLEANUP_PROMPT.format(predicted_label=prediction)\n",
    "    payload = {\n",
    "        \"model\": \"meta/llama-3.3-70b-instruct\",\n",
    "        \"messages\": [{\"role\": \"user\", \"content\": prompt}],\n",
    "        \"max_tokens\": 50,\n",
    "        \"temperature\": 0.9\n",
    "    }\n",
    "    \n",
    "    async with session.post(\"http://nim.test/v1/chat/completions\", json=payload) as response:\n",
    "        result = await response.json()\n",
    "        return result['choices'][0]['message']['content'].strip()\n",
    "\n",
    "async def clean_dataframe_labels(df, label_column='predicted_label', concurrent=20):\n",
    "    \"\"\"Clean all predictions in dataframe using LLM - only process invalid labels.\"\"\"\n",
    "    predictions = df[label_column].unique().tolist()\n",
    "    \n",
    "    # Separate valid and invalid predictions\n",
    "    valid_predictions = [p for p in predictions if p in VALID_LABELS]\n",
    "    invalid_predictions = [p for p in predictions if p not in VALID_LABELS]\n",
    "    \n",
    "    print(f\"Found {len(valid_predictions)} valid labels (will keep as-is)\")\n",
    "    print(f\"Found {len(invalid_predictions)} invalid labels (will clean with LLM)\\n\")\n",
    "    \n",
    "    # Create mapping - valid ones map to themselves\n",
    "    mapping = {p: p for p in valid_predictions}\n",
    "    \n",
    "    # Only process invalid predictions with LLM\n",
    "    if invalid_predictions:\n",
    "        semaphore = asyncio.Semaphore(concurrent)\n",
    "        \n",
    "        async def clean_with_limit(session, prediction):\n",
    "            async with semaphore:\n",
    "                cleaned = await clean_prediction_llm(session, prediction)\n",
    "                return prediction, cleaned\n",
    "        \n",
    "        async with aiohttp.ClientSession() as session:\n",
    "            tasks = [clean_with_limit(session, p) for p in invalid_predictions]\n",
    "            results = await asyncio.gather(*tasks)\n",
    "        \n",
    "        # Add invalid predictions mapping\n",
    "        mapping.update(dict(results))\n",
    "    \n",
    "    # Final safety check: map any remaining invalid labels to OTHER\n",
    "    for key, value in mapping.items():\n",
    "        if value not in VALID_LABELS:\n",
    "            print(f\"Warning: '{value}' not valid, mapping to OTHER\")\n",
    "            mapping[key] = \"OTHER\"\n",
    "    \n",
    "    # Apply mapping to dataframe\n",
    "    df_clean = df.copy()\n",
    "    df_clean[label_column] = df_clean[label_column].map(mapping)\n",
    "    \n",
    "    print(f\"\\n✓ Cleaning complete!\")\n",
    "    print(f\"\\nLabel distribution:\")\n",
    "    print(df_clean[label_column].value_counts())\n",
    "    \n",
    "    return df_clean\n"
   ]
  },
  {
   "cell_type": "code",
   "execution_count": null,
   "id": "485a1c52",
   "metadata": {},
   "outputs": [
    {
     "name": "stdout",
     "output_type": "stream",
     "text": [
      "Found 12 valid labels (will keep as-is)\n",
      "Found 51 invalid labels (will clean with LLM)\n",
      "\n",
      "Warning: '6. Dividends' not valid, mapping to OTHER\n",
      "Warning: 'STRATEGIC RELATIONSHIP\n",
      " \n",
      "1. Analyst Rating → Analyst Rating\n",
      "2. Price Targets → Price Targets\n",
      "3. Earnings → Earnings\n",
      "4. Labour Issues → Labour Issues\n",
      "5. Mergers and Acquisitions → M' not valid, mapping to OTHER\n",
      "Warning: 'Analyst Concerned About Harley's International Business' not valid, mapping to OTHER\n",
      "Warning: 'LABOUR ISSUES' not valid, mapping to OTHER\n",
      "Warning: 'LABOUR ISSUES\n",
      "13\n",
      "OTHER' not valid, mapping to OTHER\n",
      "Warning: 'Economic Data' not valid, mapping to OTHER\n",
      "Warning: '1. Analyst Rating\n",
      "2. Price Targets\n",
      "3. Other\n",
      "4. Labour Issues\n",
      "5. Other\n",
      "6. Dividends\n",
      "7. Regulatory\n",
      "8. Earnings\n",
      "9. Products-Services\n",
      "10. Guidance\n",
      "11.' not valid, mapping to OTHER\n",
      "Warning: '1. Analyst Rating\n",
      "2. Price Targets\n",
      "4. Stock price movement\n",
      "5. Mergers and Acquisitions\n",
      "6. Earnings\n",
      "7. Regulatory\n",
      "10. Products-Services\n",
      "8. Guidance' not valid, mapping to OTHER\n",
      "Warning: 'LABOUR ISSUES\n",
      "13\n",
      "OTHER' not valid, mapping to OTHER\n",
      "Warning: 'Event Type: Regulatory\n",
      "VALID LABELS:\n",
      "1. Analyst Rating\n",
      "2. Price Targets\n",
      "3. Earnings\n",
      "4. Labour Issues\n",
      "5. Mergers and Acquisitions\n",
      "6. Dividends\n",
      "7. Regulatory\n",
      "8.' not valid, mapping to OTHER\n",
      "Warning: '6. Dividends' not valid, mapping to OTHER\n",
      "Warning: 'Pfizer Announces Final Results of Zoetis Exchange Offer' not valid, mapping to OTHER\n",
      "Warning: '1. Analyst Rating\n",
      "2. Price Targets\n",
      "7. Regulatory\n",
      "3. Earnings\n",
      "2. Mergers and Acquisitions' not valid, mapping to OTHER\n",
      "Warning: '1. Analyst Rating\n",
      "2. Price Targets\n",
      "3. Mergers and Acquisitions\n",
      "4. Price Targets\n",
      "5. Earnings\n",
      "6. Dividends\n",
      "7. Regulatory\n",
      "8. Analyst Rating\n",
      "9. Price Targets\n",
      "10' not valid, mapping to OTHER\n",
      "Warning: 'LABOUR ISSUES' not valid, mapping to OTHER\n",
      "Warning: 'Rail Traffic Rising Again\n",
      "Rail Traffic Rising Again\n",
      " Labour Issues' not valid, mapping to OTHER\n",
      "Warning: 'Railroads Strong Despite Weak Tape\n",
      "\n",
      "Railroads Strong Despite Weak Tape\n",
      "\n",
      "Railroads Strong Despite Weak Tape\n",
      "\n",
      "OTHER' not valid, mapping to OTHER\n",
      "Warning: 'LABOUR ISSUES' not valid, mapping to OTHER\n",
      "Warning: 'LABOUR ISSUES' not valid, mapping to OTHER\n",
      "Warning: 'Supply Glut\n",
      " \n",
      " Labour Issues\n",
      " \n",
      " OTHER\n",
      " \n",
      " Regents Capital' not valid, mapping to OTHER\n",
      "Warning: 'Labour Issues\n",
      " \n",
      "OTHER' not valid, mapping to OTHER\n",
      "Warning: 'Analyst Rating\n",
      "7. Regulatory' not valid, mapping to OTHER\n",
      "Warning: 'Economy' not valid, mapping to OTHER\n",
      "\n",
      "✓ Cleaning complete!\n",
      "\n",
      "Label distribution:\n",
      "predicted_label\n",
      "Analyst Rating              37173\n",
      "Mergers and Acquisitions    35499\n",
      "Earnings                    35290\n",
      "OTHER                       24550\n",
      "Regulatory                  13755\n",
      "Dividends                    2081\n",
      "Credit Ratings               1916\n",
      "Price Targets                1561\n",
      "Labour Issues                 876\n",
      "Products-Services             724\n",
      "Stock price movement           53\n",
      "Guidance                       33\n",
      "Name: count, dtype: int64\n"
     ]
    }
   ],
   "source": [
    "# Clean the predictions using LLM\n",
    "df_clean = await clean_dataframe_labels(df)"
   ]
  },
  {
   "cell_type": "code",
   "execution_count": null,
   "id": "c47adb5c",
   "metadata": {},
   "outputs": [
    {
     "data": {
      "text/plain": [
       "Column(['[[other]]', '[[stock price movement]]', '[[products-services]]', '[[guidance]]', '[[products-services]]'])"
      ]
     },
     "execution_count": 138,
     "metadata": {},
     "output_type": "execute_result"
    }
   ],
   "source": [
    "data['train']['label']"
   ]
  },
  {
   "cell_type": "code",
   "execution_count": null,
   "id": "c705d462",
   "metadata": {},
   "outputs": [
    {
     "name": "stdout",
     "output_type": "stream",
     "text": [
      "Found 4 deployment(s):\n",
      "\n"
     ]
    },
    {
     "data": {
      "text/plain": [
       "{'data': [{'async_enabled': False,\n",
       "   'config': {'model': 'meta/llama-3.3-70b-instruct',\n",
       "    'nim_deployment': {'additional_envs': {'NIM_GUIDED_DECODING_BACKEND': 'outlines'},\n",
       "     'disable_lora_support': False,\n",
       "     'gpu': 2,\n",
       "     'image_name': 'nvcr.io/nim/meta/llama-3.2-1b-instruct',\n",
       "     'image_tag': '1.8.5',\n",
       "     'pvc_size': '25Gi'}},\n",
       "   'created_at': '2025-10-23T18:59:37.18374885Z',\n",
       "   'deployed': True,\n",
       "   'name': 'llama-3.3-70b-instruct',\n",
       "   'namespace': 'meta',\n",
       "   'status_details': {'description': 'deployment \"modeldeployment-meta-llama-3-3-70b-instruct\" successfully rolled out\\n',\n",
       "    'status': 'ready'},\n",
       "   'url': ''}],\n",
       " 'filter': {},\n",
       " 'object': 'list',\n",
       " 'pagination': {'current_page_size': 1,\n",
       "  'page': 1,\n",
       "  'page_size': 10,\n",
       "  'total_pages': 1,\n",
       "  'total_results': 1}}"
      ]
     },
     "execution_count": 135,
     "metadata": {},
     "output_type": "execute_result"
    }
   ],
   "source": [
    "# First, list all deployments to see what exists\n",
    "list_model_deployments(\"http://nemo.test\")\n"
   ]
  },
  {
   "cell_type": "code",
   "execution_count": null,
   "id": "4ff177a8",
   "metadata": {},
   "outputs": [],
   "source": [
    "# Save the cleaned dataset\n",
    "df_clean.to_csv('classified_headlines_clean.csv', index=False)\n"
   ]
  },
  {
   "cell_type": "code",
   "execution_count": null,
   "id": "f22c6397",
   "metadata": {},
   "outputs": [
    {
     "name": "stdout",
     "output_type": "stream",
     "text": [
      "Status: 200\n",
      "Successfully deleted deployment meta/llama-3.3-70b-instruct\n"
     ]
    },
    {
     "data": {
      "text/plain": [
       "{'deleted_at': '2025-10-23 20:24:37.084181481 +0000 UTC m=+12142.638695254',\n",
       " 'id': 'llama-3.3-70b-instruct',\n",
       " 'message': 'Resource deleted successfully'}"
      ]
     },
     "execution_count": 148,
     "metadata": {},
     "output_type": "execute_result"
    }
   ],
   "source": [
    "delete_model_deployment(\"http://nemo.test\",\"llama-3.3-70b-instruct\", \"meta\")"
   ]
  },
  {
   "cell_type": "code",
   "execution_count": null,
   "id": "c7d4ce9b",
   "metadata": {},
   "outputs": [
    {
     "name": "stdout",
     "output_type": "stream",
     "text": [
      "Status: 200\n",
      "Successfully deleted model meta/llama-3.3-70b-instruct from Entity Store\n"
     ]
    },
    {
     "data": {
      "text/plain": [
       "{'message': 'Resource deleted successfully.',\n",
       " 'id': 'model-VwdSSvWc1jfH2b7mg5bvaJ',\n",
       " 'deleted_at': None}"
      ]
     },
     "execution_count": 149,
     "metadata": {},
     "output_type": "execute_result"
    }
   ],
   "source": [
    "delete_model_from_store(\"http://nemo.test\",\"llama-3.3-70b-instruct\", \"meta\")"
   ]
  },
  {
   "cell_type": "markdown",
   "id": "684acc4e",
   "metadata": {},
   "source": [
    "# Plot distribution of dataset"
   ]
  },
  {
   "cell_type": "code",
   "execution_count": 151,
   "id": "cd63f680",
   "metadata": {},
   "outputs": [],
   "source": [
    "\n",
    "label_tracker = {}\n",
    "for i in data['train']['label']:\n",
    "    if i not in label_tracker:\n",
    "        label_tracker[i] = 0\n",
    "    label_tracker[i] += 1\n",
    "df_labels = pd.DataFrame(list(label_tracker.items()), columns=['label', 'count'])"
   ]
  },
  {
   "cell_type": "code",
   "execution_count": 153,
   "id": "a351c206",
   "metadata": {},
   "outputs": [],
   "source": [
    "df_labels['label'] = df_labels['label'].str.replace(r'\\[\\[|\\]\\]', '', regex=True)\n",
    "df_labels = df_labels.sort_values(by='count', ascending=False)"
   ]
  },
  {
   "cell_type": "code",
   "execution_count": 156,
   "id": "321548db",
   "metadata": {},
   "outputs": [
    {
     "data": {
      "text/plain": [
       "<Axes: ylabel='label'>"
      ]
     },
     "execution_count": 156,
     "metadata": {},
     "output_type": "execute_result"
    },
    {
     "data": {
      "image/png": "[encoded data removed]",
      "text/plain": [
       "<Figure size 1200x600 with 1 Axes>"
      ]
     },
     "metadata": {},
     "output_type": "display_data"
    }
   ],
   "source": [
    "df_labels.plot(kind='barh', x='label', y='count', figsize=(12, 6))"
   ]
  }
 ],
 "metadata": {
  "kernelspec": {
   "display_name": "venv",
   "language": "python",
   "name": "python3"
  },
  "language_info": {
   "codemirror_mode": {
    "name": "ipython",
    "version": 3
   },
   "file_extension": ".py",
   "mimetype": "text/x-python",
   "name": "python",
   "nbconvert_exporter": "python",
   "pygments_lexer": "ipython3",
   "version": "3.10.12"
  }
 },
 "nbformat": 4,
 "nbformat_minor": 5
}
